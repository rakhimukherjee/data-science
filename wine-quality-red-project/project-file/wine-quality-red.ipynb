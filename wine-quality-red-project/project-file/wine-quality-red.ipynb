{
 "cells": [
  {
   "cell_type": "code",
   "execution_count": 1,
   "id": "8bac5778",
   "metadata": {},
   "outputs": [],
   "source": [
    "#Importing required packages.\n",
    "import pandas as pd\n",
    "import seaborn as sns\n",
    "import matplotlib.pyplot as plt\n",
    "from sklearn.ensemble import RandomForestClassifier\n",
    "from sklearn.svm import SVC\n",
    "from sklearn.linear_model import SGDClassifier\n",
    "from sklearn.metrics import confusion_matrix, classification_report\n",
    "from sklearn.preprocessing import StandardScaler, LabelEncoder\n",
    "from sklearn.model_selection import train_test_split, GridSearchCV, cross_val_score\n",
    "%matplotlib inline"
   ]
  },
  {
   "cell_type": "code",
   "execution_count": 2,
   "id": "f0203135",
   "metadata": {},
   "outputs": [
    {
     "data": {
      "text/html": [
       "<div>\n",
       "<style scoped>\n",
       "    .dataframe tbody tr th:only-of-type {\n",
       "        vertical-align: middle;\n",
       "    }\n",
       "\n",
       "    .dataframe tbody tr th {\n",
       "        vertical-align: top;\n",
       "    }\n",
       "\n",
       "    .dataframe thead th {\n",
       "        text-align: right;\n",
       "    }\n",
       "</style>\n",
       "<table border=\"1\" class=\"dataframe\">\n",
       "  <thead>\n",
       "    <tr style=\"text-align: right;\">\n",
       "      <th></th>\n",
       "      <th>fixed acidity</th>\n",
       "      <th>volatile acidity</th>\n",
       "      <th>citric acid</th>\n",
       "      <th>residual sugar</th>\n",
       "      <th>chlorides</th>\n",
       "      <th>free sulfur dioxide</th>\n",
       "      <th>total sulfur dioxide</th>\n",
       "      <th>density</th>\n",
       "      <th>pH</th>\n",
       "      <th>sulphates</th>\n",
       "      <th>alcohol</th>\n",
       "      <th>quality</th>\n",
       "    </tr>\n",
       "  </thead>\n",
       "  <tbody>\n",
       "    <tr>\n",
       "      <th>0</th>\n",
       "      <td>7.4</td>\n",
       "      <td>0.70</td>\n",
       "      <td>0.00</td>\n",
       "      <td>1.9</td>\n",
       "      <td>0.076</td>\n",
       "      <td>11.0</td>\n",
       "      <td>34.0</td>\n",
       "      <td>0.9978</td>\n",
       "      <td>3.51</td>\n",
       "      <td>0.56</td>\n",
       "      <td>9.4</td>\n",
       "      <td>5</td>\n",
       "    </tr>\n",
       "    <tr>\n",
       "      <th>1</th>\n",
       "      <td>7.8</td>\n",
       "      <td>0.88</td>\n",
       "      <td>0.00</td>\n",
       "      <td>2.6</td>\n",
       "      <td>0.098</td>\n",
       "      <td>25.0</td>\n",
       "      <td>67.0</td>\n",
       "      <td>0.9968</td>\n",
       "      <td>3.20</td>\n",
       "      <td>0.68</td>\n",
       "      <td>9.8</td>\n",
       "      <td>5</td>\n",
       "    </tr>\n",
       "    <tr>\n",
       "      <th>2</th>\n",
       "      <td>7.8</td>\n",
       "      <td>0.76</td>\n",
       "      <td>0.04</td>\n",
       "      <td>2.3</td>\n",
       "      <td>0.092</td>\n",
       "      <td>15.0</td>\n",
       "      <td>54.0</td>\n",
       "      <td>0.9970</td>\n",
       "      <td>3.26</td>\n",
       "      <td>0.65</td>\n",
       "      <td>9.8</td>\n",
       "      <td>5</td>\n",
       "    </tr>\n",
       "    <tr>\n",
       "      <th>3</th>\n",
       "      <td>11.2</td>\n",
       "      <td>0.28</td>\n",
       "      <td>0.56</td>\n",
       "      <td>1.9</td>\n",
       "      <td>0.075</td>\n",
       "      <td>17.0</td>\n",
       "      <td>60.0</td>\n",
       "      <td>0.9980</td>\n",
       "      <td>3.16</td>\n",
       "      <td>0.58</td>\n",
       "      <td>9.8</td>\n",
       "      <td>6</td>\n",
       "    </tr>\n",
       "    <tr>\n",
       "      <th>4</th>\n",
       "      <td>7.4</td>\n",
       "      <td>0.70</td>\n",
       "      <td>0.00</td>\n",
       "      <td>1.9</td>\n",
       "      <td>0.076</td>\n",
       "      <td>11.0</td>\n",
       "      <td>34.0</td>\n",
       "      <td>0.9978</td>\n",
       "      <td>3.51</td>\n",
       "      <td>0.56</td>\n",
       "      <td>9.4</td>\n",
       "      <td>5</td>\n",
       "    </tr>\n",
       "  </tbody>\n",
       "</table>\n",
       "</div>"
      ],
      "text/plain": [
       "   fixed acidity  volatile acidity  citric acid  residual sugar  chlorides  \\\n",
       "0            7.4              0.70         0.00             1.9      0.076   \n",
       "1            7.8              0.88         0.00             2.6      0.098   \n",
       "2            7.8              0.76         0.04             2.3      0.092   \n",
       "3           11.2              0.28         0.56             1.9      0.075   \n",
       "4            7.4              0.70         0.00             1.9      0.076   \n",
       "\n",
       "   free sulfur dioxide  total sulfur dioxide  density    pH  sulphates  \\\n",
       "0                 11.0                  34.0   0.9978  3.51       0.56   \n",
       "1                 25.0                  67.0   0.9968  3.20       0.68   \n",
       "2                 15.0                  54.0   0.9970  3.26       0.65   \n",
       "3                 17.0                  60.0   0.9980  3.16       0.58   \n",
       "4                 11.0                  34.0   0.9978  3.51       0.56   \n",
       "\n",
       "   alcohol  quality  \n",
       "0      9.4        5  \n",
       "1      9.8        5  \n",
       "2      9.8        5  \n",
       "3      9.8        6  \n",
       "4      9.4        5  "
      ]
     },
     "execution_count": 2,
     "metadata": {},
     "output_type": "execute_result"
    }
   ],
   "source": [
    "#Loading dataset\n",
    "wine_input = pd.read_csv('../winequality-red.csv')\n",
    "wine_input.head()"
   ]
  },
  {
   "cell_type": "code",
   "execution_count": 3,
   "id": "22207a61",
   "metadata": {},
   "outputs": [
    {
     "name": "stdout",
     "output_type": "stream",
     "text": [
      "<class 'pandas.core.frame.DataFrame'>\n",
      "RangeIndex: 1599 entries, 0 to 1598\n",
      "Data columns (total 12 columns):\n",
      " #   Column                Non-Null Count  Dtype  \n",
      "---  ------                --------------  -----  \n",
      " 0   fixed acidity         1599 non-null   float64\n",
      " 1   volatile acidity      1599 non-null   float64\n",
      " 2   citric acid           1599 non-null   float64\n",
      " 3   residual sugar        1599 non-null   float64\n",
      " 4   chlorides             1599 non-null   float64\n",
      " 5   free sulfur dioxide   1599 non-null   float64\n",
      " 6   total sulfur dioxide  1599 non-null   float64\n",
      " 7   density               1599 non-null   float64\n",
      " 8   pH                    1599 non-null   float64\n",
      " 9   sulphates             1599 non-null   float64\n",
      " 10  alcohol               1599 non-null   float64\n",
      " 11  quality               1599 non-null   int64  \n",
      "dtypes: float64(11), int64(1)\n",
      "memory usage: 150.0 KB\n"
     ]
    }
   ],
   "source": [
    "#print the info about the columns to understand the structure\n",
    "wine_input.info()"
   ]
  },
  {
   "cell_type": "code",
   "execution_count": 4,
   "id": "e805c0ff",
   "metadata": {},
   "outputs": [],
   "source": [
    "#It is important to understand how the data in columns are distributed in the dataset\n",
    "#As of now, the idea is to plot the quality with each column and see the distribution pattern"
   ]
  },
  {
   "cell_type": "code",
   "execution_count": 5,
   "id": "98c95068",
   "metadata": {},
   "outputs": [
    {
     "data": {
      "text/plain": [
       "<AxesSubplot:xlabel='quality', ylabel='fixed acidity'>"
      ]
     },
     "execution_count": 5,
     "metadata": {},
     "output_type": "execute_result"
    },
    {
     "data": {
      "image/png": "[encoded data removed]",
      "text/plain": [
       "<Figure size 720x432 with 1 Axes>"
      ]
     },
     "metadata": {
      "needs_background": "light"
     },
     "output_type": "display_data"
    }
   ],
   "source": [
    "#Plot fixed acidity and check the pattern\n",
    "plot_fixed_acidity = plt.figure(figsize = (10,6))\n",
    "sns.barplot(x = 'quality', y = 'fixed acidity', data = wine_input)"
   ]
  },
  {
   "cell_type": "code",
   "execution_count": 6,
   "id": "70bfc102",
   "metadata": {},
   "outputs": [
    {
     "data": {
      "text/plain": [
       "<AxesSubplot:xlabel='quality', ylabel='volatile acidity'>"
      ]
     },
     "execution_count": 6,
     "metadata": {},
     "output_type": "execute_result"
    },
    {
     "data": {
      "image/png": "[encoded data removed]",
      "text/plain": [
       "<Figure size 720x432 with 1 Axes>"
      ]
     },
     "metadata": {
      "needs_background": "light"
     },
     "output_type": "display_data"
    }
   ],
   "source": [
    "#as seen above, the fixed acidity doesnt give enough indicators to judge the quality.  Lets try the next\n",
    "#Lets plot volatile acidity and check the pattern\n",
    "plot_volatile_acidity = plt.figure(figsize = (10,6))\n",
    "sns.barplot(x = 'quality', y = 'volatile acidity', data = wine_input)"
   ]
  },
  {
   "cell_type": "code",
   "execution_count": 7,
   "id": "3bdf17e6",
   "metadata": {},
   "outputs": [
    {
     "data": {
      "text/plain": [
       "<AxesSubplot:xlabel='quality', ylabel='citric acid'>"
      ]
     },
     "execution_count": 7,
     "metadata": {},
     "output_type": "execute_result"
    },
    {
     "data": {
      "image/png": "[encoded data removed]",
      "text/plain": [
       "<Figure size 720x432 with 1 Axes>"
      ]
     },
     "metadata": {
      "needs_background": "light"
     },
     "output_type": "display_data"
    }
   ],
   "source": [
    "#as seen above, the quality increases as and when volatile acidity decreases.  However, the last bar does indicate a contrary view\n",
    "#Lets plot citric acid as well and check the pattern\n",
    "plot_citric_acid = plt.figure(figsize = (10,6))\n",
    "sns.barplot(x = 'quality', y = 'citric acid', data = wine_input)"
   ]
  },
  {
   "cell_type": "code",
   "execution_count": 8,
   "id": "3e8147d6",
   "metadata": {},
   "outputs": [
    {
     "data": {
      "text/plain": [
       "<AxesSubplot:xlabel='quality', ylabel='residual sugar'>"
      ]
     },
     "execution_count": 8,
     "metadata": {},
     "output_type": "execute_result"
    },
    {
     "data": {
      "image/png": "[encoded data removed]",
      "text/plain": [
       "<Figure size 720x432 with 1 Axes>"
      ]
     },
     "metadata": {
      "needs_background": "light"
     },
     "output_type": "display_data"
    }
   ],
   "source": [
    "#Above indicates a useful trend.  As and when citric acid increases, the quality of wine increases\n",
    "#lets plot residual sugar and analyze the trend\n",
    "plot_residual_sugar = plt.figure(figsize = (10,6))\n",
    "sns.barplot(x = 'quality', y = 'residual sugar', data = wine_input)"
   ]
  },
  {
   "cell_type": "code",
   "execution_count": 9,
   "id": "58a1a879",
   "metadata": {},
   "outputs": [
    {
     "data": {
      "text/plain": [
       "<AxesSubplot:xlabel='quality', ylabel='chlorides'>"
      ]
     },
     "execution_count": 9,
     "metadata": {},
     "output_type": "execute_result"
    },
    {
     "data": {
      "image/png": "[encoded data removed]",
      "text/plain": [
       "<Figure size 720x432 with 1 Axes>"
      ]
     },
     "metadata": {
      "needs_background": "light"
     },
     "output_type": "display_data"
    }
   ],
   "source": [
    "#above indicates no clear pattern on the relation between residual sugar and quality\n",
    "#lets plot chlorides and check the pattern\n",
    "plot_chlorides = plt.figure(figsize = (10,6))\n",
    "sns.barplot(x = 'quality', y = 'chlorides', data = wine_input)"
   ]
  },
  {
   "cell_type": "code",
   "execution_count": 10,
   "id": "0087785d",
   "metadata": {},
   "outputs": [
    {
     "data": {
      "text/plain": [
       "<AxesSubplot:xlabel='quality', ylabel='free sulfur dioxide'>"
      ]
     },
     "execution_count": 10,
     "metadata": {},
     "output_type": "execute_result"
    },
    {
     "data": {
      "image/png": "[encoded data removed]",
      "text/plain": [
       "<Figure size 720x432 with 1 Axes>"
      ]
     },
     "metadata": {
      "needs_background": "light"
     },
     "output_type": "display_data"
    }
   ],
   "source": [
    "plot_free_sulphur_dioxide = plt.figure(figsize = (10,6))\n",
    "sns.barplot(x = 'quality', y = 'free sulfur dioxide', data = wine_input)"
   ]
  },
  {
   "cell_type": "code",
   "execution_count": 11,
   "id": "bf56a0c2",
   "metadata": {},
   "outputs": [
    {
     "data": {
      "text/plain": [
       "<AxesSubplot:xlabel='quality', ylabel='total sulfur dioxide'>"
      ]
     },
     "execution_count": 11,
     "metadata": {},
     "output_type": "execute_result"
    },
    {
     "data": {
      "image/png": "[encoded data removed]",
      "text/plain": [
       "<Figure size 720x432 with 1 Axes>"
      ]
     },
     "metadata": {
      "needs_background": "light"
     },
     "output_type": "display_data"
    }
   ],
   "source": [
    "plot_total_sulphur_dioxide = plt.figure(figsize = (10,6))\n",
    "sns.barplot(x = 'quality', y = 'total sulfur dioxide', data = wine_input)"
   ]
  },
  {
   "cell_type": "code",
   "execution_count": 12,
   "id": "2a5db4aa",
   "metadata": {},
   "outputs": [
    {
     "data": {
      "text/plain": [
       "<AxesSubplot:xlabel='quality', ylabel='density'>"
      ]
     },
     "execution_count": 12,
     "metadata": {},
     "output_type": "execute_result"
    },
    {
     "data": {
      "image/png": "[encoded data removed]",
      "text/plain": [
       "<Figure size 720x432 with 1 Axes>"
      ]
     },
     "metadata": {
      "needs_background": "light"
     },
     "output_type": "display_data"
    }
   ],
   "source": [
    "plot_density = plt.figure(figsize = (10,6))\n",
    "sns.barplot(x = 'quality', y = 'density', data = wine_input)"
   ]
  },
  {
   "cell_type": "code",
   "execution_count": 13,
   "id": "075d1629",
   "metadata": {},
   "outputs": [
    {
     "data": {
      "text/plain": [
       "<AxesSubplot:xlabel='quality', ylabel='pH'>"
      ]
     },
     "execution_count": 13,
     "metadata": {},
     "output_type": "execute_result"
    },
    {
     "data": {
      "image/png": "[encoded data removed]",
      "text/plain": [
       "<Figure size 720x432 with 1 Axes>"
      ]
     },
     "metadata": {
      "needs_background": "light"
     },
     "output_type": "display_data"
    }
   ],
   "source": [
    "plot_ph = plt.figure(figsize = (10,6))\n",
    "sns.barplot(x = 'quality', y = 'pH', data = wine_input)"
   ]
  },
  {
   "cell_type": "code",
   "execution_count": 14,
   "id": "49939788",
   "metadata": {},
   "outputs": [
    {
     "data": {
      "text/plain": [
       "<AxesSubplot:xlabel='quality', ylabel='sulphates'>"
      ]
     },
     "execution_count": 14,
     "metadata": {},
     "output_type": "execute_result"
    },
    {
     "data": {
      "image/png": "[encoded data removed]",
      "text/plain": [
       "<Figure size 720x432 with 1 Axes>"
      ]
     },
     "metadata": {
      "needs_background": "light"
     },
     "output_type": "display_data"
    }
   ],
   "source": [
    "plot_sulphates = plt.figure(figsize = (10,6))\n",
    "sns.barplot(x = 'quality', y = 'sulphates', data = wine_input)"
   ]
  },
  {
   "cell_type": "code",
   "execution_count": 15,
   "id": "2dcdc08c",
   "metadata": {
    "scrolled": true
   },
   "outputs": [
    {
     "data": {
      "text/plain": [
       "<AxesSubplot:xlabel='quality', ylabel='alcohol'>"
      ]
     },
     "execution_count": 15,
     "metadata": {},
     "output_type": "execute_result"
    },
    {
     "data": {
      "image/png": "[encoded data removed]",
      "text/plain": [
       "<Figure size 720x432 with 1 Axes>"
      ]
     },
     "metadata": {
      "needs_background": "light"
     },
     "output_type": "display_data"
    }
   ],
   "source": [
    "plot_alcohol = plt.figure(figsize = (10,6))\n",
    "sns.barplot(x = 'quality', y = 'alcohol', data = wine_input)"
   ]
  },
  {
   "cell_type": "code",
   "execution_count": 16,
   "id": "ba6af9c9",
   "metadata": {},
   "outputs": [
    {
     "data": {
      "text/plain": [
       "0    1382\n",
       "1     217\n",
       "Name: quality, dtype: int64"
      ]
     },
     "execution_count": 16,
     "metadata": {},
     "output_type": "execute_result"
    }
   ],
   "source": [
    "#Lets pre-process the data\n",
    "#Making binary classificaion for the response variable.\n",
    "#Dividing wine as good and bad by giving the limit for the quality\n",
    "#as per the requirement, any wine of quality 7 and above is considered as good, so setting the cut-off at 6 and higher range at 9\n",
    "classify_range = (2, 6, 9)\n",
    "binary_categorize = ['bad', 'good']\n",
    "wine_input['quality'] = pd.cut(wine_input['quality'], bins = classify_range, labels = binary_categorize)\n",
    "\n",
    "#Assign labels to our quality variable\n",
    "label_quality = LabelEncoder()\n",
    "\n",
    "#Bad becomes 0 and good becomes 1 \n",
    "wine_input['quality'] = label_quality.fit_transform(wine_input['quality'])\n",
    "wine_input['quality'].value_counts()"
   ]
  },
  {
   "cell_type": "code",
   "execution_count": 17,
   "id": "e555eeb7",
   "metadata": {},
   "outputs": [
    {
     "data": {
      "text/plain": [
       "<AxesSubplot:xlabel='quality', ylabel='count'>"
      ]
     },
     "execution_count": 17,
     "metadata": {},
     "output_type": "execute_result"
    },
    {
     "data": {
      "image/png": "[encoded data removed]",
      "text/plain": [
       "<Figure size 432x288 with 1 Axes>"
      ]
     },
     "metadata": {
      "needs_background": "light"
     },
     "output_type": "display_data"
    }
   ],
   "source": [
    "sns.countplot(x=wine_input['quality'])"
   ]
  },
  {
   "cell_type": "code",
   "execution_count": 18,
   "id": "083be811",
   "metadata": {},
   "outputs": [],
   "source": [
    "#As a first step beore proceeding, lets drop the quality column since its not required during training of data\n",
    "x_axis = wine_input.drop('quality', axis = 1)\n",
    "y_axis = wine_input['quality']"
   ]
  },
  {
   "cell_type": "code",
   "execution_count": 19,
   "id": "d2e10ed1",
   "metadata": {},
   "outputs": [],
   "source": [
    "#Train and Test splitting of data \n",
    "x_axis_train, x_axis_test, y_axis_train, y_axis_test = train_test_split(x_axis, y_axis, test_size = 0.2, random_state = 42)"
   ]
  },
  {
   "cell_type": "code",
   "execution_count": 20,
   "id": "724d2668",
   "metadata": {},
   "outputs": [],
   "source": [
    "#Further, to get the optimization, lets apply standard scaling\n",
    "std_scale = StandardScaler()"
   ]
  },
  {
   "cell_type": "code",
   "execution_count": 21,
   "id": "57f18ae0",
   "metadata": {},
   "outputs": [],
   "source": [
    "#get the trained and the test data post applying the scaling\n",
    "x_axis_train = std_scale.fit_transform(x_axis_train)\n",
    "x_axis_test = std_scale.fit_transform(x_axis_test)"
   ]
  },
  {
   "cell_type": "code",
   "execution_count": 22,
   "id": "9cd7f931",
   "metadata": {},
   "outputs": [],
   "source": [
    "#Now that we have the testing data and the training data, we can try applying the below classiier models\n",
    "# 1. Support vector classifier\n",
    "# 2. Random Forest Classifier\n",
    "# 3. Stochastic Gradient Descent Classifier"
   ]
  },
  {
   "cell_type": "code",
   "execution_count": 23,
   "id": "7f0f1231",
   "metadata": {},
   "outputs": [
    {
     "name": "stdout",
     "output_type": "stream",
     "text": [
      "              precision    recall  f1-score   support\n",
      "\n",
      "           0       0.88      0.98      0.93       273\n",
      "           1       0.71      0.26      0.37        47\n",
      "\n",
      "    accuracy                           0.88       320\n",
      "   macro avg       0.80      0.62      0.65       320\n",
      "weighted avg       0.86      0.88      0.85       320\n",
      "\n"
     ]
    }
   ],
   "source": [
    "#Support vector classifier\n",
    "sup_vec_class = SVC()\n",
    "sup_vec_class.fit(x_axis_train, y_axis_train)\n",
    "svc_prediction_score = sup_vec_class.predict(x_axis_test)\n",
    "print(classification_report(y_axis_test, svc_prediction_score))"
   ]
  },
  {
   "cell_type": "code",
   "execution_count": 24,
   "id": "b60abf38",
   "metadata": {},
   "outputs": [
    {
     "name": "stdout",
     "output_type": "stream",
     "text": [
      "              precision    recall  f1-score   support\n",
      "\n",
      "           0       0.90      0.96      0.93       273\n",
      "           1       0.64      0.38      0.48        47\n",
      "\n",
      "    accuracy                           0.88       320\n",
      "   macro avg       0.77      0.67      0.71       320\n",
      "weighted avg       0.86      0.88      0.86       320\n",
      "\n"
     ]
    }
   ],
   "source": [
    "#Lets try random forest\n",
    "rfc_wine = RandomForestClassifier(n_estimators=100)\n",
    "rfc_wine.fit(x_axis_train, y_axis_train)\n",
    "pred_rfc_wine = rfc_wine.predict(x_axis_test)\n",
    "#Let's see how our model performed\n",
    "print(classification_report(y_axis_test, pred_rfc_wine))"
   ]
  },
  {
   "cell_type": "code",
   "execution_count": 25,
   "id": "af61d431",
   "metadata": {},
   "outputs": [
    {
     "name": "stdout",
     "output_type": "stream",
     "text": [
      "[[263  10]\n",
      " [ 29  18]]\n"
     ]
    }
   ],
   "source": [
    "#Lets watch out for the Confusion matrix for the RFC\n",
    "print(confusion_matrix(y_axis_test, pred_rfc_wine))"
   ]
  },
  {
   "cell_type": "code",
   "execution_count": 26,
   "id": "5d1678e6",
   "metadata": {},
   "outputs": [
    {
     "name": "stdout",
     "output_type": "stream",
     "text": [
      "              precision    recall  f1-score   support\n",
      "\n",
      "           0       0.86      0.97      0.92       273\n",
      "           1       0.42      0.11      0.17        47\n",
      "\n",
      "    accuracy                           0.85       320\n",
      "   macro avg       0.64      0.54      0.54       320\n",
      "weighted avg       0.80      0.85      0.81       320\n",
      "\n"
     ]
    }
   ],
   "source": [
    "#Stochastic Gradient Descent Classifier\n",
    "sgd_wine = SGDClassifier(penalty=None)\n",
    "sgd_wine.fit(x_axis_train, y_axis_train)\n",
    "pred_sgd_wine = sgd_wine.predict(x_axis_test)\n",
    "print(classification_report(y_axis_test, pred_sgd_wine))"
   ]
  },
  {
   "cell_type": "code",
   "execution_count": 27,
   "id": "4422ec08",
   "metadata": {},
   "outputs": [
    {
     "name": "stdout",
     "output_type": "stream",
     "text": [
      "[[266   7]\n",
      " [ 42   5]]\n"
     ]
    }
   ],
   "source": [
    "print(confusion_matrix(y_axis_test, pred_sgd_wine))"
   ]
  },
  {
   "cell_type": "code",
   "execution_count": 28,
   "id": "d91a375b",
   "metadata": {},
   "outputs": [
    {
     "data": {
      "text/plain": [
       "{'C': 1.2, 'gamma': 0.9, 'kernel': 'rbf'}"
      ]
     },
     "execution_count": 28,
     "metadata": {},
     "output_type": "execute_result"
    }
   ],
   "source": [
    "#Now we have 3 models which give us a score without much variations\n",
    "#Lets go for increasing the accuracy of the models\n",
    "#We use Grid Search CV for this\n",
    "#Finding best parameters for our SVC model\n",
    "param = {\n",
    "    'C': [0.1,0.8,0.9,1,1.1,1.2,1.3,1.4],\n",
    "    'kernel':['linear', 'rbf'],\n",
    "    'gamma' :[0.1,0.8,0.9,1,1.1,1.2,1.3,1.4]\n",
    "}\n",
    "grid_svc = GridSearchCV(sup_vec_class, param_grid=param, scoring='accuracy', cv=10)\n",
    "grid_svc.fit(x_axis_train, y_axis_train)\n",
    "\n",
    "#get the best parameters for our SVC model\n",
    "grid_svc.best_params_\n"
   ]
  },
  {
   "cell_type": "code",
   "execution_count": 29,
   "id": "cb5808ce",
   "metadata": {},
   "outputs": [
    {
     "name": "stdout",
     "output_type": "stream",
     "text": [
      "              precision    recall  f1-score   support\n",
      "\n",
      "           0       0.90      0.99      0.94       273\n",
      "           1       0.89      0.34      0.49        47\n",
      "\n",
      "    accuracy                           0.90       320\n",
      "   macro avg       0.89      0.67      0.72       320\n",
      "weighted avg       0.90      0.90      0.88       320\n",
      "\n"
     ]
    }
   ],
   "source": [
    "#Let's run our SVC again with the best parameters.\n",
    "svc_rerun = SVC(C = 1.2, gamma =  0.9, kernel= 'rbf')\n",
    "svc_rerun.fit(x_axis_train, y_axis_train)\n",
    "pred_svc_rerun = svc_rerun.predict(x_axis_test)\n",
    "print(classification_report(y_axis_test, pred_svc_rerun))"
   ]
  },
  {
   "cell_type": "code",
   "execution_count": 30,
   "id": "2c66a926",
   "metadata": {},
   "outputs": [
    {
     "name": "stdout",
     "output_type": "stream",
     "text": [
      "0.9085383858267717\n"
     ]
    }
   ],
   "source": [
    "#cross validation for SVC\n",
    "svc_cross_eval = cross_val_score(estimator = svc_rerun, X = x_axis_train, y = y_axis_train, cv = 10)\n",
    "print(svc_cross_eval.mean())"
   ]
  },
  {
   "cell_type": "code",
   "execution_count": 31,
   "id": "cf3b9d56",
   "metadata": {},
   "outputs": [
    {
     "name": "stdout",
     "output_type": "stream",
     "text": [
      "0.9100947342519685\n"
     ]
    }
   ],
   "source": [
    "#cross validation for RFC model\n",
    "rfc_eval = cross_val_score(estimator = rfc_wine, X = x_axis_train, y = y_axis_train, cv = 10)\n",
    "print(rfc_eval.mean())"
   ]
  },
  {
   "cell_type": "code",
   "execution_count": 32,
   "id": "2c19862a",
   "metadata": {},
   "outputs": [
    {
     "name": "stdout",
     "output_type": "stream",
     "text": [
      "0.8475455216535434\n"
     ]
    }
   ],
   "source": [
    "#cross validation for SGD model\n",
    "sgd_eval = cross_val_score(estimator = sgd_wine, X = x_axis_train, y = y_axis_train, cv = 10)\n",
    "print(sgd_eval.mean())"
   ]
  },
  {
   "cell_type": "code",
   "execution_count": 33,
   "id": "9f7a94e9",
   "metadata": {},
   "outputs": [
    {
     "name": "stdout",
     "output_type": "stream",
     "text": [
      "The Model with the best score is: RFC and the score is: 0.9100947342519685\n"
     ]
    }
   ],
   "source": [
    "#Lets print the conclusion\n",
    "arr_scores = [svc_cross_eval.mean(), rfc_eval.mean(), sgd_eval.mean()]\n",
    "arr_model_name = [ 'SVC', 'RFC', 'SGD']\n",
    "best = arr_scores[0]\n",
    "best_index = 0\n",
    "\n",
    "#Loop through the array    \n",
    "for i in range(0, len(arr_scores)):    \n",
    "    #Compare elements of array with max    \n",
    "   if(arr_scores[i] > best):\n",
    "    best = arr_scores[i]\n",
    "    best_index = i\n",
    "              \n",
    "print(\"The Model with the best score is: \" + arr_model_name[best_index] + \" and the score is: \" + str(arr_scores[best_index]))  \n"
   ]
  }
 ],
 "metadata": {
  "kernelspec": {
   "display_name": "Python 3 (ipykernel)",
   "language": "python",
   "name": "python3"
  },
  "language_info": {
   "codemirror_mode": {
    "name": "ipython",
    "version": 3
   },
   "file_extension": ".py",
   "mimetype": "text/x-python",
   "name": "python",
   "nbconvert_exporter": "python",
   "pygments_lexer": "ipython3",
   "version": "3.9.5"
  }
 },
 "nbformat": 4,
 "nbformat_minor": 5
}
